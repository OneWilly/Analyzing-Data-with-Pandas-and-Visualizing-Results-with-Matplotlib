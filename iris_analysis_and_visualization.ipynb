{
 "cells": [
  {
   "cell_type": "code",
   "execution_count": null,
   "id": "5e72d5ab",
   "metadata": {},
   "outputs": [],
   "source": [
    "\"\"\"\n",
    "Iris Dataset Analysis and Visualization\n",
    "---------------------------------------\n",
    "This script performs the following tasks:\n",
    "1. Loads and explores the Iris dataset.\n",
    "2. Computes basic data analysis statistics like mean, median, and standard deviation.\n",
    "3. Creates various visualizations to explore relationships in the data.\n",
    "4. Provides observations and insights after each visualization.\n",
    "\n",
    "Requirements:\n",
    "- pandas\n",
    "- matplotlib\n",
    "- seaborn\n",
    "- scikit-learn\n",
    "\"\"\""
   ]
  },
  {
   "cell_type": "code",
   "execution_count": null,
   "id": "c9510e8f",
   "metadata": {
    "lines_to_next_cell": 1
   },
   "outputs": [],
   "source": [
    "# Import necessary libraries\n",
    "import pandas as pd\n",
    "import matplotlib.pyplot as plt\n",
    "import seaborn as sns\n",
    "from sklearn.datasets import load_iris"
   ]
  },
  {
   "cell_type": "code",
   "execution_count": null,
   "id": "62133ec4",
   "metadata": {
    "lines_to_next_cell": 1
   },
   "outputs": [],
   "source": [
    "# Save the Iris dataset to a CSV file (one-time operation)\n",
    "def save_iris_to_csv():\n",
    "    \"\"\"\n",
    "    Save the Iris dataset to a CSV file for demonstration purposes.\n",
    "    \"\"\"\n",
    "    try:\n",
    "        iris = load_iris()\n",
    "        df = pd.DataFrame(data=iris.data, columns=iris.feature_names)\n",
    "        df['species'] = iris.target\n",
    "        df['species'] = df['species'].map({0: 'setosa', 1: 'versicolor', 2: 'virginica'})\n",
    "        df.to_csv('iris_dataset.csv', index=False)\n",
    "        print(\"Iris dataset saved to 'iris_dataset.csv'.\")\n",
    "    except Exception as e:\n",
    "        print(f\"An error occurred while saving the dataset: {e}\")"
   ]
  },
  {
   "cell_type": "code",
   "execution_count": null,
   "id": "c7cf976a",
   "metadata": {
    "lines_to_next_cell": 1
   },
   "outputs": [],
   "source": [
    "# Load the dataset from the CSV file\n",
    "def load_and_explore_data_from_csv():\n",
    "    \"\"\"\n",
    "    Load the Iris dataset from a CSV file, explore its structure, and check for missing values.\n",
    "    \"\"\"\n",
    "    try:\n",
    "        # Load the dataset using pandas\n",
    "        df = pd.read_csv('iris_dataset.csv')\n",
    "        \n",
    "        # Display the first few rows of the dataset\n",
    "        print(\"First 5 rows of the dataset:\")\n",
    "        print(df.head())\n",
    "        \n",
    "        # Check the structure of the dataset\n",
    "        print(\"\\nDataset Info:\")\n",
    "        print(df.info())\n",
    "        \n",
    "        # Check for missing values\n",
    "        print(\"\\nNumber of missing values in each column:\")\n",
    "        print(df.isnull().sum())\n",
    "        \n",
    "        # Since the Iris dataset has no missing values:\n",
    "        print(\"\\nNo missing values detected. Dataset is clean!\")\n",
    "        \n",
    "        return df\n",
    "    except Exception as e:\n",
    "        print(f\"An error occurred while loading the dataset: {e}\")\n",
    "        return None"
   ]
  },
  {
   "cell_type": "code",
   "execution_count": null,
   "id": "0245cf27",
   "metadata": {
    "lines_to_next_cell": 1
   },
   "outputs": [],
   "source": [
    "# Task 2: Basic Data Analysis\n",
    "def basic_data_analysis(df):\n",
    "    \"\"\"\n",
    "    Perform basic data analysis on the dataset.\n",
    "    \"\"\"\n",
    "    # Compute basic statistics for numerical columns\n",
    "    print(\"\\nBasic Statistics:\")\n",
    "    print(df.describe())\n",
    "    \n",
    "    # Perform grouping by species and compute the mean of numerical columns\n",
    "    grouped_data = df.groupby('species').mean()\n",
    "    print(\"\\nMean values of numerical columns grouped by species:\")\n",
    "    print(grouped_data)\n",
    "    \n",
    "    # Observations\n",
    "    print(\"\\nObservations:\")\n",
    "    print(\"1. Virginica species has the highest mean for petal length and petal width.\")\n",
    "    print(\"2. Setosa species has the smallest mean for all numerical columns.\")"
   ]
  },
  {
   "cell_type": "code",
   "execution_count": null,
   "id": "84234c12",
   "metadata": {
    "lines_to_next_cell": 1
   },
   "outputs": [],
   "source": [
    "# Task 3: Data Visualization\n",
    "def visualize_data(df):\n",
    "    \"\"\"\n",
    "    Create visualizations to explore the dataset.\n",
    "    \"\"\"\n",
    "    # Set a seaborn style for better aesthetics\n",
    "    sns.set(style=\"whitegrid\")\n",
    "    \n",
    "    # Line chart: Petal length trend for each species\n",
    "    plt.figure(figsize=(8, 6))\n",
    "    for species in df['species'].unique():\n",
    "        subset = df[df['species'] == species]\n",
    "        plt.plot(range(len(subset)), subset['petal length (cm)'], label=species)\n",
    "    plt.title(\"Petal Length Trend by Species\", fontsize=14)\n",
    "    plt.xlabel(\"Index\", fontsize=12)\n",
    "    plt.ylabel(\"Petal Length (cm)\", fontsize=12)\n",
    "    plt.legend(title=\"Species\", fontsize=10)\n",
    "    plt.grid(alpha=0.5)\n",
    "    plt.show()\n",
    "    print(\"\\nObservation: The line chart shows clear differences in petal length trends across species.\")\n",
    "    \n",
    "    # Bar chart: Average petal width grouped by species\n",
    "    plt.figure(figsize=(8, 6))\n",
    "    sns.barplot(x='species', y='petal width (cm)', data=df, palette=\"viridis\")\n",
    "    plt.title(\"Average Petal Width by Species\", fontsize=14)\n",
    "    plt.xlabel(\"Species\", fontsize=12)\n",
    "    plt.ylabel(\"Petal Width (cm)\", fontsize=12)\n",
    "    plt.show()\n",
    "    print(\"\\nObservation: Virginica species has the largest average petal width.\")\n",
    "    \n",
    "    # Histogram: Distribution of sepal length\n",
    "    plt.figure(figsize=(8, 6))\n",
    "    plt.hist(df['sepal length (cm)'], bins=15, color='skyblue', edgecolor='black')\n",
    "    plt.title(\"Distribution of Sepal Length\", fontsize=14)\n",
    "    plt.xlabel(\"Sepal Length (cm)\", fontsize=12)\n",
    "    plt.ylabel(\"Frequency\", fontsize=12)\n",
    "    plt.grid(alpha=0.5)\n",
    "    plt.show()\n",
    "    print(\"\\nObservation: Most sepal lengths are concentrated between 5 and 6 cm.\")\n",
    "    \n",
    "    # Scatter plot: Sepal length vs. petal length\n",
    "    plt.figure(figsize=(8, 6))\n",
    "    sns.scatterplot(x='sepal length (cm)', y='petal length (cm)', hue='species', data=df, palette=\"deep\")\n",
    "    plt.title(\"Sepal Length vs. Petal Length\", fontsize=14)\n",
    "    plt.xlabel(\"Sepal Length (cm)\", fontsize=12)\n",
    "    plt.ylabel(\"Petal Length (cm)\", fontsize=12)\n",
    "    plt.legend(title=\"Species\", fontsize=10)\n",
    "    plt.grid(alpha=0.5)\n",
    "    plt.show()\n",
    "    print(\"\\nObservation: There is a strong positive correlation between petal length and sepal length.\")\n",
    "\n",
    "    # Additional visualization: Pairplot for pairwise relationships\n",
    "    sns.pairplot(df, hue='species', palette='viridis', diag_kind='hist', height=2.5)\n",
    "    plt.suptitle(\"Pairwise Relationships Among Features\", y=1.02, fontsize=16)\n",
    "    plt.show()\n",
    "    print(\"\\nObservation: Pairplot shows clear separations among species in petal-related dimensions.\")"
   ]
  },
  {
   "cell_type": "code",
   "execution_count": null,
   "id": "94d2292b",
   "metadata": {
    "lines_to_next_cell": 1
   },
   "outputs": [],
   "source": [
    "# Main function to execute the tasks\n",
    "def main():\n",
    "    \"\"\"\n",
    "    Main function to execute all tasks in the assignment.\n",
    "    \"\"\"\n",
    "    print(\"Saving the Iris dataset to a CSV file...\")\n",
    "    save_iris_to_csv()\n",
    "    \n",
    "    print(\"\\nLoading and exploring the dataset from the CSV file...\")\n",
    "    df = load_and_explore_data_from_csv()\n",
    "    if df is not None:\n",
    "        print(\"\\nPerforming basic data analysis...\")\n",
    "        basic_data_analysis(df)\n",
    "        print(\"\\nCreating visualizations...\")\n",
    "        visualize_data(df)\n",
    "        print(\"\\nAssignment tasks completed successfully!\")"
   ]
  },
  {
   "cell_type": "code",
   "execution_count": null,
   "id": "7e1e302b",
   "metadata": {},
   "outputs": [],
   "source": [
    "# Execute the script\n",
    "if __name__ == \"__main__\":\n",
    "    main()"
   ]
  }
 ],
 "metadata": {
  "jupytext": {
   "cell_metadata_filter": "-all",
   "main_language": "python",
   "notebook_metadata_filter": "-all"
  }
 },
 "nbformat": 4,
 "nbformat_minor": 5
}
